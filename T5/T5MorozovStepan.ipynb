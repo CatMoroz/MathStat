{
  "cells": [
    {
      "cell_type": "code",
      "execution_count": 2,
      "metadata": {
        "id": "tz54oNVPhaN-"
      },
      "outputs": [],
      "source": [
        "import numpy as np\n",
        "import matplotlib.pyplot as plt\n",
        "from scipy import stats"
      ]
    },
    {
      "cell_type": "code",
      "execution_count": 3,
      "metadata": {
        "colab": {
          "base_uri": "https://localhost:8080/"
        },
        "id": "cWPwx3IUhjN3",
        "outputId": "d2dcfc8a-fcf8-4611-cf8e-693948994c7d"
      },
      "outputs": [
        {
          "name": "stdout",
          "output_type": "stream",
          "text": [
            "Выборка объема 100\n",
            "[10.02828636 10.07380812 10.17253968 10.18879564 10.36303829 10.52037372\n",
            " 10.6088368  10.63382456 10.89863304 11.10159119 11.1267887  11.34309958\n",
            " 11.40626482 11.41161525 11.60961976 11.73739086 12.09397426 12.14551139\n",
            " 12.14688759 12.18871105 12.23233734 12.27265361 12.30616597 12.33441325\n",
            " 12.37941563 12.59404668 12.80725983 12.96061528 12.97969855 13.11903444\n",
            " 13.17365657 13.36333925 13.37566992 13.39581285 13.60254834 13.84900295\n",
            " 13.85341125 13.95200668 14.08778446 14.28700501 14.41398679 14.53884918\n",
            " 14.64829267 14.66526974 14.73403404 14.81549458 14.90165062 14.9289368\n",
            " 14.96291298 14.99834877 15.0943547  15.22486968 15.39287058 15.47788059\n",
            " 15.70289156 15.77627377 15.80508792 15.8072578  15.87024645 15.94428577\n",
            " 16.07357823 16.13131334 16.14695371 16.22620585 16.24676816 16.34135264\n",
            " 16.43793829 16.57437407 16.64634766 16.83371489 16.88854203 16.99613505\n",
            " 17.01153554 17.14536762 17.45803264 17.84310651 17.8780708  17.8974061\n",
            " 17.94043454 18.05987286 18.16902209 18.20675401 18.27459039 18.43120335\n",
            " 18.46801908 18.48279306 18.59236716 18.63602757 18.74294675 18.75802418\n",
            " 18.84152031 18.91768036 19.04519042 19.11329028 19.22005317 19.38611909\n",
            " 19.55749203 19.68564588 19.82402881 19.8782063 ]\n"
          ]
        }
      ],
      "source": [
        "n = 100\n",
        "Teta = 10\n",
        "B = 0.95\n",
        "sample = np.random.uniform(Teta, 2*Teta, size = n)\n",
        "sample.sort()\n",
        "print(\"Выборка объема 100\")\n",
        "print(sample)"
      ]
    },
    {
      "cell_type": "code",
      "execution_count": 4,
      "metadata": {
        "colab": {
          "base_uri": "https://localhost:8080/"
        },
        "id": "e3BzAYHrhm_z",
        "outputId": "c215a623-9f24-49b2-9eb8-26183efbe2b6"
      },
      "outputs": [
        {
          "name": "stdout",
          "output_type": "stream",
          "text": [
            "asympt_confidence_interval (9.940361333851797,10.122403133898265)\n"
          ]
        }
      ],
      "source": [
        "a = (max(sample))/(((1+B)/2)**(1/n)+1)\n",
        "b = (max(sample))/(((1-B)/2)**(1/n)+1)\n",
        "L_asympt_confidence_interval = b-a\n",
        "print(f\"asympt_confidence_interval ({a},{b})\")\n"
      ]
    },
    {
      "cell_type": "code",
      "execution_count": 5,
      "metadata": {
        "colab": {
          "base_uri": "https://localhost:8080/"
        },
        "id": "0NB_kGPyhpzt",
        "outputId": "5ad14e87-409e-46fe-ad68-220ef419328f"
      },
      "outputs": [
        {
          "name": "stdout",
          "output_type": "stream",
          "text": [
            "exact_confidence_interval (9.89350340482922,10.10649659517078)\n"
          ]
        }
      ],
      "source": [
        "a = -2.94*(((7/3)*Teta**-(9/4)*Teta)/n)**(1/2) + Teta\n",
        "b = 2.94*(((7/3)*Teta**-(9/4)*Teta)/n)**(1/2) + Teta\n",
        "L_exact_confidence_interval = b-a\n",
        "print(f\"exact_confidence_interval ({a},{b})\")"
      ]
    },
    {
      "cell_type": "code",
      "execution_count": 6,
      "metadata": {
        "colab": {
          "base_uri": "https://localhost:8080/"
        },
        "id": "Tg7XJfEehslb",
        "outputId": "43608f1b-a328-4b6d-d148-a1874a801bf8"
      },
      "outputs": [
        {
          "name": "stdout",
          "output_type": "stream",
          "text": [
            "10.036248588523566 9.939103152332784\n"
          ]
        }
      ],
      "source": [
        "Teta_1 = (2/3)*np.mean(sample)\n",
        "Teta_2 = (1/2)*max(sample)\n",
        "print (Teta_1, Teta_2)"
      ]
    },
    {
      "cell_type": "code",
      "execution_count": 7,
      "metadata": {
        "colab": {
          "base_uri": "https://localhost:8080/"
        },
        "id": "hJZkxCrXhu0w",
        "outputId": "f24121be-c23b-4318-d87c-4de641c77463"
      },
      "outputs": [
        {
          "name": "stdout",
          "output_type": "stream",
          "text": [
            "[[16.88982568 10.72675906 19.99366427 ... 19.87306792 11.22048594\n",
            "  10.71373075]\n",
            " [16.09099318 16.49268819 13.41589915 ... 11.85544064 16.44417822\n",
            "  10.19817658]\n",
            " [17.57467451 19.02137619 18.8458976  ... 13.44984111 14.19714185\n",
            "  13.73611012]\n",
            " ...\n",
            " [14.56458411 19.11878671 18.68913474 ... 10.86830039 13.37165266\n",
            "  16.00453293]\n",
            " [18.28886729 11.82011993 11.24632499 ... 12.61211433 11.31216987\n",
            "  19.05710397]\n",
            " [18.31356022 19.04627125 14.70348644 ... 10.98696938 14.89468396\n",
            "  15.82952127]]\n",
            "(10000, 100)\n"
          ]
        }
      ],
      "source": [
        "N = 10000\n",
        "Teta = 10\n",
        "a = Teta\n",
        "b = 2*Teta\n",
        "all_samples = []\n",
        "all_tetas = []\n",
        "for _ in range(N):\n",
        "  sample_ = np.random.uniform(Teta_1, 2*Teta_1, n)\n",
        "  teta_ = (2/3)*np.mean(sample_)\n",
        "  all_samples.append(sample_)\n",
        "  all_tetas.append(teta_)\n",
        "all_samples = np.array(all_samples)\n",
        "all_tetas = np.array(all_tetas)\n",
        "print(all_samples)\n",
        "print(all_samples.shape)\n"
      ]
    },
    {
      "cell_type": "code",
      "execution_count": 8,
      "metadata": {
        "colab": {
          "base_uri": "https://localhost:8080/"
        },
        "id": "pzeZsHXahxLz",
        "outputId": "89efa0aa-fbf1-4b0c-95bd-3568f703fe63"
      },
      "outputs": [
        {
          "name": "stdout",
          "output_type": "stream",
          "text": [
            "[10.17496747  9.66740902 10.19306992 ... 10.1137725  10.0828883\n",
            " 10.03919721]\n",
            "(10000,)\n"
          ]
        }
      ],
      "source": [
        "print(all_tetas)\n",
        "print(all_tetas.shape)"
      ]
    },
    {
      "cell_type": "code",
      "execution_count": 9,
      "metadata": {
        "colab": {
          "base_uri": "https://localhost:8080/"
        },
        "id": "rgVnh0ljtf21",
        "outputId": "4afe5e73-b626-4b5c-ac36-a4eaae9b22ec"
      },
      "outputs": [
        {
          "data": {
            "text/plain": [
              "array([ 9.35254325,  9.39482814,  9.39924882, ..., 10.70040947,\n",
              "       10.71623403, 10.72711967])"
            ]
          },
          "execution_count": 9,
          "metadata": {},
          "output_type": "execute_result"
        }
      ],
      "source": [
        "all_tetas.sort()\n",
        "all_tetas"
      ]
    },
    {
      "cell_type": "code",
      "execution_count": 10,
      "metadata": {
        "colab": {
          "base_uri": "https://localhost:8080/"
        },
        "id": "hSMLxo67tr6Z",
        "outputId": "6ec915d8-b7bf-4a42-d416-9b0766edc470"
      },
      "outputs": [
        {
          "data": {
            "text/plain": [
              "(np.float64(9.658587152511188), np.float64(10.414051540576176))"
            ]
          },
          "execution_count": 10,
          "metadata": {},
          "output_type": "execute_result"
        }
      ],
      "source": [
        "K1 = int(N*(1-B)/2)\n",
        "K2 = int(N*(1+B)/2)\n",
        "parametric_bootstrap_interval = (all_tetas[K1], all_tetas[K2])\n",
        "L_parametric_bootstrap_interval = all_tetas[K2]-all_tetas[K1]\n",
        "parametric_bootstrap_interval"
      ]
    },
    {
      "cell_type": "code",
      "execution_count": 11,
      "metadata": {
        "colab": {
          "base_uri": "https://localhost:8080/"
        },
        "id": "QNTXd1gqug18",
        "outputId": "101b4d24-e768-4941-b5b9-dea89b2a61d8"
      },
      "outputs": [
        {
          "name": "stdout",
          "output_type": "stream",
          "text": [
            "Длина точного доверительного интервала: 0.21299319034156028,\n",
            " Длина асимптотического доверительного интервала: 0.18204180004646808,\n",
            " Длина бутстраповского доверительного интервала: 0.7554643880649881,\n",
            " Макс. длина интервала: 0.7554643880649881,\n",
            " Мин. длина интервала: 0.18204180004646808.\n",
            "\n"
          ]
        }
      ],
      "source": [
        "L_min_interval = min(L_exact_confidence_interval, L_asympt_confidence_interval, L_parametric_bootstrap_interval)\n",
        "L_max_interval = max(L_exact_confidence_interval, L_asympt_confidence_interval, L_parametric_bootstrap_interval)\n",
        "print(f\"Длина точного доверительного интервала: {L_exact_confidence_interval},\\n Длина асимптотического доверительного интервала: {L_asympt_confidence_interval},\\n \"\n",
        "f\"Длина бутстраповского доверительного интервала: {L_parametric_bootstrap_interval},\\n Макс. длина интервала: {L_max_interval},\\n Мин. длина интервала: {L_min_interval}.\\n\")"
      ]
    },
    {
      "cell_type": "code",
      "execution_count": null,
      "metadata": {
        "id": "IueyapKK-3hf"
      },
      "outputs": [],
      "source": []
    }
  ],
  "metadata": {
    "colab": {
      "provenance": []
    },
    "kernelspec": {
      "display_name": "venv",
      "language": "python",
      "name": "python3"
    },
    "language_info": {
      "codemirror_mode": {
        "name": "ipython",
        "version": 3
      },
      "file_extension": ".py",
      "mimetype": "text/x-python",
      "name": "python",
      "nbconvert_exporter": "python",
      "pygments_lexer": "ipython3",
      "version": "3.9.6"
    }
  },
  "nbformat": 4,
  "nbformat_minor": 0
}
