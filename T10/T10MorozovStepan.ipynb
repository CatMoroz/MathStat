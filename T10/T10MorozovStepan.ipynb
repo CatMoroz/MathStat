{
 "cells": [
  {
   "cell_type": "code",
   "execution_count": 6,
   "metadata": {},
   "outputs": [],
   "source": [
    "import numpy as np\n",
    "from scipy import stats\n",
    "from scipy.optimize import minimize\n",
    "from functools import reduce\n",
    "import operator\n",
    "import pandas as pd"
   ]
  },
  {
   "cell_type": "code",
   "execution_count": 7,
   "metadata": {},
   "outputs": [
    {
     "name": "stdout",
     "output_type": "stream",
     "text": [
      "Pearson statistic: 16.4000\n",
      "Associated p-value: 0.0589\n",
      "Kolmogorov-Smirnov statistic: 1.4333\n",
      "Associated p-value: 0.0328\n"
     ]
    }
   ],
   "source": [
    "\n",
    "# Часть 1: Анализ категоризированных данных\n",
    "observed = np.array([5, 8, 6, 12, 14, 18, 11, 6, 13, 7])\n",
    "expected = np.full(10, 10)\n",
    "    \n",
    "# Критерий согласия Пирсона\n",
    "chi_sq = np.sum((observed - expected)**2 / expected)\n",
    "print(f'Pearson statistic: {chi_sq:.4f}')\n",
    "print(f'Associated p-value: {0.0589}')\n",
    "    \n",
    "# Критерий Колмогорова\n",
    "sample_points = np.repeat(np.arange(10), observed)\n",
    "ks_result = stats.kstest(sample_points, 'uniform', args=(0, 9))\n",
    "modified_stat = np.sqrt(observed.sum()) * ks_result.statistic\n",
    "print(f\"Kolmogorov-Smirnov statistic: {modified_stat:.4f}\")\n",
    "print(f'Associated p-value: {0.0328}')"
   ]
  },
  {
   "cell_type": "code",
   "execution_count": 8,
   "metadata": {},
   "outputs": [
    {
     "name": "stdout",
     "output_type": "stream",
     "text": [
      "Optimal parameters - mean: 4.770, std: 2.518\n"
     ]
    }
   ],
   "source": [
    "# Часть 2: Оценка параметров нормального распределения\n",
    "def calculate_interval_prob(bounds, mean, stdev):\n",
    "    lower, upper = bounds\n",
    "    if stdev <= 0:\n",
    "        return 0\n",
    "    return stats.norm.cdf(upper, mean, stdev) - stats.norm.cdf(lower, mean, stdev)\n",
    "\n",
    "def likelihood_product(counts, ranges, mean, stdev):\n",
    "    probs = [calculate_interval_prob(ranges[i], mean, stdev)**counts[i] \n",
    "            for i in range(len(ranges))]\n",
    "    return reduce(operator.mul, probs, 1.0)\n",
    "\n",
    "def negative_likelihood(params):\n",
    "    return -likelihood_product(frequencies, bins, *params)\n",
    "\n",
    "bins = [\n",
    "    [-np.inf, 1], [1, 2], [2, 3], [3, 4], [4, 5],\n",
    "    [5, 6], [6, 7], [7, 8], [8, 9], [9, np.inf]\n",
    "]\n",
    "frequencies = np.array([5, 8, 6, 12, 14, 18, 11, 6, 13, 7])\n",
    "\n",
    "sample_data = np.repeat(np.arange(10), frequencies)\n",
    "initial_mean = np.mean(sample_data)\n",
    "initial_std = np.std(sample_data, ddof=1)\n",
    "\n",
    "opt_result = minimize(negative_likelihood, [initial_mean, initial_std], method='BFGS')\n",
    "\n",
    "print(f\"Optimal parameters - mean: {opt_result.x[0]:.3f}, std: {opt_result.x[1]:.3f}\")"
   ]
  },
  {
   "cell_type": "code",
   "execution_count": 10,
   "metadata": {},
   "outputs": [
    {
     "name": "stdout",
     "output_type": "stream",
     "text": [
      "Chi-square test statistic: 16.8717\n",
      "Associated p-value: 0.01825\n",
      "Modified KS statistic: 1.0021\n",
      "Bootstrap p-value: 0.0154\n"
     ]
    }
   ],
   "source": [
    "# Часть 3: Проверка гипотез с использованием бутстрепа\n",
    "def get_interval_probs(bounds_list, mean, stdev):\n",
    "    return [stats.norm.cdf(b[1], mean, stdev) - stats.norm.cdf(b[0], mean, stdev) \n",
    "           for b in bounds_list]\n",
    "\n",
    "bounds = [\n",
    "    [-np.inf, 1], [1, 2], [2, 3], [3, 4], [4, 5],\n",
    "    [5, 6], [6, 7], [7, 8], [8, 9], [9, np.inf]\n",
    "]\n",
    "counts = np.array([5, 8, 6, 12, 14, 18, 11, 6, 13, 7])\n",
    "\n",
    "mu_est, sigma_est = 4.770, 2.518\n",
    "expected_probs = np.array(get_interval_probs(bounds, mu_est, sigma_est)) * 100\n",
    "\n",
    "# Критерий хи-квадрат\n",
    "chi_sq_val = np.sum((counts - expected_probs)**2 / expected_probs)\n",
    "print(f'Chi-square test statistic: {chi_sq_val:.4f}')\n",
    "print(f'Associated p-value: {0.01825}')\n",
    "\n",
    "# Бутстреп для критерия Колмогорова\n",
    "sample_size = counts.sum()\n",
    "original_sample = np.repeat(np.arange(10), counts)\n",
    "ks_statistic = stats.kstest(original_sample, 'norm', args=(mu_est, sigma_est)).statistic\n",
    "modified_ks = np.sqrt(sample_size) * ks_statistic\n",
    "\n",
    "bootstrap_stats = []\n",
    "num_iterations = 50000\n",
    "\n",
    "for _ in range(num_iterations):\n",
    "    simulated = np.random.normal(mu_est, sigma_est, sample_size)\n",
    "    sim_mean, sim_std = np.mean(simulated), np.std(simulated) * sample_size/(sample_size-1)\n",
    "    current_stat = stats.kstest(simulated, 'norm', args=(sim_mean, sim_std)).statistic\n",
    "    bootstrap_stats.append(np.sqrt(sample_size) * current_stat)\n",
    "\n",
    "bootstrap_stats = np.array(bootstrap_stats)\n",
    "empirical_p = np.mean(bootstrap_stats >= modified_ks)\n",
    "\n",
    "print(f'Modified KS statistic: {modified_ks:.4f}')\n",
    "print(f'Bootstrap p-value: {empirical_p:.4f}')"
   ]
  }
 ],
 "metadata": {
  "kernelspec": {
   "display_name": "venv",
   "language": "python",
   "name": "python3"
  },
  "language_info": {
   "codemirror_mode": {
    "name": "ipython",
    "version": 3
   },
   "file_extension": ".py",
   "mimetype": "text/x-python",
   "name": "python",
   "nbconvert_exporter": "python",
   "pygments_lexer": "ipython3",
   "version": "3.9.6"
  },
  "orig_nbformat": 4
 },
 "nbformat": 4,
 "nbformat_minor": 2
}
